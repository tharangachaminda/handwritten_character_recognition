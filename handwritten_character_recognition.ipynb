{
 "cells": [
  {
   "cell_type": "markdown",
   "id": "e86bfdf4-23da-4824-a60b-4797434fa9cd",
   "metadata": {},
   "source": [
    "# Handwritten Digits Recognition with CNN\n",
    "Handwritten digits recognition in deep learning involves training a neural network to accurately classify images of handwritten digits into their corresponding numerical values (0-9). This task typically involves preprocessing the images, designing a neural network architecture (like convolutional neural networks), training the model on a dataset of labeled handwritten digits (such as MNIST), and optimizing its parameters using techniques like backpropagation and gradient descent. The goal is to develop a model that can generalize well to recognize unseen handwritten digits with high accuracy.\n",
    "\n",
    "<div class=\"alert alert-success\">\n",
    "    <h2>Table of content</h2>\n",
    "    <ol>\n",
    "        <li><a href=\"#Project-goal\">Project goal</a></li>\n",
    "        <li><a href=\"#Applicable-domains\">Applicable domains</a></li>\n",
    "        <li><a href=\"#Stakeholders\">Stakeholders</a></li>\n",
    "        <li><a href=\"#Dataset\">Dataset</a></li>\n",
    "        <li><a href=\"#Tools-and-technology\">Tools and technology</a></li>\n",
    "        <li><a href=\"#Applicable-domains\">Applicable domains</a></li>\n",
    "        <li><a href=\"#Load-Data-sets\">Load Data sets</a></li>\n",
    "        <li><a href=\"#Basic-analysis-about-the-datasets\">Basic analysis about the datasets</a></li>\n",
    "        <li><a href=\"#What's-we-have-in-the-dataset?\">What's we have in the dataset?</a></li>\n",
    "        <li>\n",
    "            <a href=\"#Data-pre-processing\">Data pre-processing</a>\n",
    "            <ol>\n",
    "                <li><a href=\"#Normalizing\">Normalizing</a></li>\n",
    "                <li><a href=\"#Reshaping\">Reshaping</a></li>\n",
    "            </ol>\n",
    "        </li>        \n",
    "        <li><a href=\"#Defining-the-model\">Defining the model</a></li>\n",
    "        <li><a href=\"#Model-accuracy\">Model accuracy</a></li>\n",
    "    </ol>\n",
    "</div>\n",
    "\n",
    "## Project goal\n",
    "The main goal of this project is implementing more accurate handwritten character recognition system. In this Notebook I will be developing a CNN model to recognize handwritten digits. In the future I will extend this project to recognize handwritten characters as well.\n",
    "\n",
    "## Applicable domains\n",
    "<ul>\n",
    "    <li>Digitized Document Processing</li>\n",
    "    <li>Automatic Address Recognition</li>\n",
    "    <li>Banking and Finance</li>\n",
    "    <li>Education</li>\n",
    "    <li>Security</li>\n",
    "    <li>Medical Records</li>\n",
    "    <li>Data Analysis and Machine Learning</li>\n",
    "</ul>\n",
    "\n",
    "## Stakeholders\n",
    "<ul>\n",
    "    <li>Researchers and Developers</li>\n",
    "    <li>Technology Companies</li>\n",
    "    <li>Educational Institutions</li>\n",
    "    <li>Financial Institutions</li>\n",
    "    <li>Healthcare Providers</li>\n",
    "    <li>Retail and E-commerce Companies</li>\n",
    "</ul>\n",
    "\n",
    "## Dataset\n",
    "In this project I'm using EMNIST dataset. More specifically, EMNIST-Digits subset.\n",
    "\n",
    "## Tools and technology\n",
    "<ul>\n",
    "    <li>Convolutinal Neural Network</li>\n",
    "    <li>Keras with Tensorflow backend</li>\n",
    "</ul>"
   ]
  },
  {
   "cell_type": "code",
   "execution_count": 2,
   "id": "793c94d8-8f17-4faf-8d97-6b89aad1da90",
   "metadata": {},
   "outputs": [],
   "source": [
    "import pandas as pd\n",
    "import numpy as np\n",
    "import matplotlib.pyplot as plt\n",
    "import seaborn as sns\n",
    "from tensorflow.keras.datasets import mnist\n",
    "from tensorflow.keras.saving import load_model\n",
    "from tensorflow.keras.preprocessing.image import load_img, img_to_array\n",
    "from tensorflow.keras.utils import to_categorical\n",
    "from tensorflow.keras import Sequential\n",
    "from tensorflow.keras.layers import Conv2D, MaxPooling2D, Dense, Flatten, Dropout\n",
    "from tensorflow.keras.callbacks import ModelCheckpoint\n",
    "from tensorflow.keras.optimizers import SGD, RMSprop\n",
    "\n",
    "%matplotlib inline"
   ]
  },
  {
   "cell_type": "markdown",
   "id": "e7984327-b7dc-4a5b-831f-abc6dde621e3",
   "metadata": {},
   "source": [
    "## Load Data sets"
   ]
  },
  {
   "cell_type": "code",
   "execution_count": 3,
   "id": "bf1d5838-1b55-4233-baad-abb750f034c9",
   "metadata": {},
   "outputs": [],
   "source": [
    "train_set_orig = pd.read_csv('data/emnist-digits-train.csv')\n",
    "test_set_orig = pd.read_csv('data/emnist-digits-test.csv')\n",
    "\n",
    "#(train_X, train_y), (test_X, test_y) = mnist.load_data()"
   ]
  },
  {
   "cell_type": "code",
   "execution_count": 4,
   "id": "ef1a95b3-f77d-40b5-9f09-dd5d865b1477",
   "metadata": {},
   "outputs": [],
   "source": [
    "img_size = 28\n",
    "#train_X = train_X.reshape(train_X.shape[0], img_size, img_size, 1)\n",
    "#test_X = test_X.reshape(test_X.shape[0], img_size, img_size, 1)\n",
    "\n",
    "#train_y = to_categorical(train_y)\n",
    "#test_y = to_categorical(test_y)"
   ]
  },
  {
   "cell_type": "code",
   "execution_count": 6,
   "id": "35082aec-3b53-44e9-a88d-e91815c40113",
   "metadata": {},
   "outputs": [],
   "source": [
    "#train_X"
   ]
  },
  {
   "cell_type": "markdown",
   "id": "8a49d8d2-1aca-48ae-b583-4c494aae3faf",
   "metadata": {},
   "source": [
    "## Basic analysis about the datasets"
   ]
  },
  {
   "cell_type": "code",
   "execution_count": 7,
   "id": "1af6a4cc-3aea-40d4-9db3-6ee1d1494f12",
   "metadata": {},
   "outputs": [
    {
     "name": "stdout",
     "output_type": "stream",
     "text": [
      "Train set shape: (239999, 785)\n",
      "Test set shape: (39999, 785)\n"
     ]
    }
   ],
   "source": [
    "#print('Train set shape:', train_X.shape)\n",
    "#print('Test set shape:', test_X.shape)\n",
    "\n",
    "print('Train set shape:', train_set_orig.shape)\n",
    "print('Test set shape:', test_set_orig.shape)"
   ]
  },
  {
   "cell_type": "markdown",
   "id": "35ae1044-26f6-45fb-996a-dfea8a8ead03",
   "metadata": {},
   "source": [
    "Train : Test ratio is good. 18799 observations for testing is a very good number compared to 112799 records for training."
   ]
  },
  {
   "cell_type": "code",
   "execution_count": 8,
   "id": "7b68ed87-95aa-4a00-a1c1-c05a9912e659",
   "metadata": {},
   "outputs": [
    {
     "data": {
      "text/plain": [
       "False"
      ]
     },
     "execution_count": 8,
     "metadata": {},
     "output_type": "execute_result"
    }
   ],
   "source": [
    "train_set_orig.isna().sum().any()"
   ]
  },
  {
   "cell_type": "code",
   "execution_count": 9,
   "id": "b174defb-db44-4562-a295-1b577e970549",
   "metadata": {},
   "outputs": [
    {
     "data": {
      "text/plain": [
       "False"
      ]
     },
     "execution_count": 9,
     "metadata": {},
     "output_type": "execute_result"
    }
   ],
   "source": [
    "test_set_orig.isna().sum().any()"
   ]
  },
  {
   "cell_type": "markdown",
   "id": "c63db71f-8485-4d7b-8f92-6b4bd68f076c",
   "metadata": {},
   "source": [
    "There are no any missing values in either sets."
   ]
  },
  {
   "cell_type": "markdown",
   "id": "b5fa7f55-1de1-48c0-b9af-f5e05a3af211",
   "metadata": {},
   "source": [
    "## What's we have in the dataset?"
   ]
  },
  {
   "cell_type": "code",
   "execution_count": 10,
   "id": "0301627a-b265-43c2-8365-dc1fe6f23fcd",
   "metadata": {},
   "outputs": [],
   "source": [
    "# Train set input features X and class y\n",
    "train_X = train_set_orig.iloc[:, 1:].values\n",
    "train_y = train_set_orig.iloc[:, 0].values\n",
    "\n",
    "# Test set input features and class y\n",
    "test_X = test_set_orig.iloc[:, 1:].values\n",
    "test_y = test_set_orig.iloc[:, 0].values"
   ]
  },
  {
   "cell_type": "code",
   "execution_count": 11,
   "id": "1f97a51a-6248-4a8a-95f2-39e5f9e89931",
   "metadata": {},
   "outputs": [
    {
     "data": {
      "image/png": "[encoded data removed]",
      "text/plain": [
       "<Figure size 1000x800 with 15 Axes>"
      ]
     },
     "metadata": {},
     "output_type": "display_data"
    }
   ],
   "source": [
    "fig, axes = plt.subplots(3, 5, figsize=(10, 8))\n",
    "for i, ax in enumerate(axes.flat):\n",
    "    ax.imshow(train_X[i].reshape([28, 28]))\n",
    "\n",
    "plt.show()"
   ]
  },
  {
   "cell_type": "markdown",
   "id": "e0de6cc5-a151-4bc6-b8c1-8d8029a358b8",
   "metadata": {},
   "source": [
    "## Data pre-processing\n",
    "If you look at the data set, the range of the pixel values goes from 0 to 255. It is a good idea to normalize data before we feed them into a model for training. Normalizing data helps to increase the efficiency of training process.\n",
    "\n",
    "### Normalizing"
   ]
  },
  {
   "cell_type": "code",
   "execution_count": 12,
   "id": "e178b558-13bd-4376-b4b6-becc52e8f289",
   "metadata": {},
   "outputs": [],
   "source": [
    "train_X = train_X / 255.\n",
    "test_X = test_X / 255."
   ]
  },
  {
   "cell_type": "markdown",
   "id": "22f5c8e0-2bed-4c4f-be2a-0a730b5b4a91",
   "metadata": {},
   "source": [
    "### Reshaping\n",
    "Pixel values are stored in the CSV file as a single row. We have to reshape it to a bunch of (28, 28, 1) images."
   ]
  },
  {
   "cell_type": "code",
   "execution_count": 13,
   "id": "e0e2ec34-29f5-4331-871e-f6f4f28ae1bf",
   "metadata": {},
   "outputs": [],
   "source": [
    "train_X = train_X.reshape(train_X.shape[0], 28, 28, 1)\n",
    "test_X = test_X.reshape(test_X.shape[0], 28, 28, 1)"
   ]
  },
  {
   "cell_type": "code",
   "execution_count": 14,
   "id": "556dcfb9-ee6a-414a-a243-1a04322e59cc",
   "metadata": {},
   "outputs": [],
   "source": [
    "number_of_classes = 10\n",
    "train_y = to_categorical(train_y, number_of_classes)\n",
    "test_y = to_categorical(test_y, number_of_classes)"
   ]
  },
  {
   "cell_type": "markdown",
   "id": "89d7814a-9c3c-491a-879f-c82044a8df54",
   "metadata": {},
   "source": [
    "## Defining the model"
   ]
  },
  {
   "cell_type": "code",
   "execution_count": 50,
   "id": "da8f8ee1-cb4f-42ec-8937-108c5228a4c2",
   "metadata": {},
   "outputs": [
    {
     "name": "stdout",
     "output_type": "stream",
     "text": [
      "Model: \"sequential_1\"\n",
      "_________________________________________________________________\n",
      " Layer (type)                Output Shape              Param #   \n",
      "=================================================================\n",
      " conv2d_3 (Conv2D)           (None, 26, 26, 32)        320       \n",
      "                                                                 \n",
      " max_pooling2d_2 (MaxPoolin  (None, 13, 13, 32)        0         \n",
      " g2D)                                                            \n",
      "                                                                 \n",
      " conv2d_4 (Conv2D)           (None, 11, 11, 256)       73984     \n",
      "                                                                 \n",
      " conv2d_5 (Conv2D)           (None, 9, 9, 128)         295040    \n",
      "                                                                 \n",
      " flatten_1 (Flatten)         (None, 10368)             0         \n",
      "                                                                 \n",
      " dense_2 (Dense)             (None, 10)                103690    \n",
      "                                                                 \n",
      "=================================================================\n",
      "Total params: 473034 (1.80 MB)\n",
      "Trainable params: 473034 (1.80 MB)\n",
      "Non-trainable params: 0 (0.00 Byte)\n",
      "_________________________________________________________________\n"
     ]
    }
   ],
   "source": [
    "model = Sequential([\n",
    "    Conv2D(32, 3, input_shape=(img_size, img_size, 1), activation='relu', kernel_initializer='he_uniform'),\n",
    "    MaxPooling2D(2, 2),\n",
    "    Conv2D(256, 3, activation='relu', kernel_initializer='he_uniform'),\n",
    "    #Dropout(0.2),\n",
    "    Conv2D(128, 3, activation='relu', kernel_initializer='he_uniform'),\n",
    "    #MaxPooling2D(2, 2),\n",
    "    Flatten(),\n",
    "    #Dense(128, activation='relu', kernel_initializer='he_uniform'),\n",
    "    Dense(number_of_classes, activation='softmax')\n",
    "])\n",
    "\n",
    "model.summary()"
   ]
  },
  {
   "cell_type": "code",
   "execution_count": 51,
   "id": "d65c6725-1873-42bb-b657-ccea2cc990b2",
   "metadata": {},
   "outputs": [],
   "source": [
    "opt = SGD(learning_rate=0.01, momentum=0.9)\n",
    "model.compile(optimizer=opt, loss='categorical_crossentropy', metrics=['accuracy'])"
   ]
  },
  {
   "cell_type": "code",
   "execution_count": 52,
   "id": "b63ea7e0-433c-450e-b350-eb64283562c8",
   "metadata": {},
   "outputs": [],
   "source": [
    "model_filepath = 'models/model-mnist-digits-ep{epoch:03d}-loss{loss:.3f}'\n",
    "cp = ModelCheckpoint(model_filepath, verbose=1, save_best_only=True, monitor='accuracy')\n",
    "no_epochs = 20"
   ]
  },
  {
   "cell_type": "code",
   "execution_count": 53,
   "id": "8faf01d9-d6e7-456c-b93a-a23c17b50c4b",
   "metadata": {},
   "outputs": [
    {
     "name": "stdout",
     "output_type": "stream",
     "text": [
      "Epoch 1/20\n",
      "7500/7500 [==============================] - ETA: 0s - loss: 0.0505 - accuracy: 0.9852\n",
      "Epoch 1: accuracy improved from -inf to 0.98523, saving model to models\\model-mnist-digits-ep001-loss0.050\n",
      "INFO:tensorflow:Assets written to: models\\model-mnist-digits-ep001-loss0.050\\assets\n"
     ]
    },
    {
     "name": "stderr",
     "output_type": "stream",
     "text": [
      "INFO:tensorflow:Assets written to: models\\model-mnist-digits-ep001-loss0.050\\assets\n"
     ]
    },
    {
     "name": "stdout",
     "output_type": "stream",
     "text": [
      "7500/7500 [==============================] - 304s 40ms/step - loss: 0.0505 - accuracy: 0.9852 - val_loss: 0.0264 - val_accuracy: 0.9922\n",
      "Epoch 2/20\n",
      "7499/7500 [============================>.] - ETA: 0s - loss: 0.0222 - accuracy: 0.9938\n",
      "Epoch 2: accuracy improved from 0.98523 to 0.99380, saving model to models\\model-mnist-digits-ep002-loss0.022\n",
      "INFO:tensorflow:Assets written to: models\\model-mnist-digits-ep002-loss0.022\\assets\n"
     ]
    },
    {
     "name": "stderr",
     "output_type": "stream",
     "text": [
      "INFO:tensorflow:Assets written to: models\\model-mnist-digits-ep002-loss0.022\\assets\n"
     ]
    },
    {
     "name": "stdout",
     "output_type": "stream",
     "text": [
      "7500/7500 [==============================] - 311s 41ms/step - loss: 0.0222 - accuracy: 0.9938 - val_loss: 0.0187 - val_accuracy: 0.9949\n",
      "Epoch 3/20\n",
      "7500/7500 [==============================] - ETA: 0s - loss: 0.0164 - accuracy: 0.9954\n",
      "Epoch 3: accuracy improved from 0.99380 to 0.99540, saving model to models\\model-mnist-digits-ep003-loss0.016\n",
      "INFO:tensorflow:Assets written to: models\\model-mnist-digits-ep003-loss0.016\\assets\n"
     ]
    },
    {
     "name": "stderr",
     "output_type": "stream",
     "text": [
      "INFO:tensorflow:Assets written to: models\\model-mnist-digits-ep003-loss0.016\\assets\n"
     ]
    },
    {
     "name": "stdout",
     "output_type": "stream",
     "text": [
      "7500/7500 [==============================] - 304s 41ms/step - loss: 0.0164 - accuracy: 0.9954 - val_loss: 0.0185 - val_accuracy: 0.9949\n",
      "Epoch 4/20\n",
      "7500/7500 [==============================] - ETA: 0s - loss: 0.0132 - accuracy: 0.9963\n",
      "Epoch 4: accuracy improved from 0.99540 to 0.99633, saving model to models\\model-mnist-digits-ep004-loss0.013\n",
      "INFO:tensorflow:Assets written to: models\\model-mnist-digits-ep004-loss0.013\\assets\n"
     ]
    },
    {
     "name": "stderr",
     "output_type": "stream",
     "text": [
      "INFO:tensorflow:Assets written to: models\\model-mnist-digits-ep004-loss0.013\\assets\n"
     ]
    },
    {
     "name": "stdout",
     "output_type": "stream",
     "text": [
      "7500/7500 [==============================] - 305s 41ms/step - loss: 0.0132 - accuracy: 0.9963 - val_loss: 0.0179 - val_accuracy: 0.9952\n",
      "Epoch 5/20\n",
      "7500/7500 [==============================] - ETA: 0s - loss: 0.0105 - accuracy: 0.9970\n",
      "Epoch 5: accuracy improved from 0.99633 to 0.99704, saving model to models\\model-mnist-digits-ep005-loss0.010\n",
      "INFO:tensorflow:Assets written to: models\\model-mnist-digits-ep005-loss0.010\\assets\n"
     ]
    },
    {
     "name": "stderr",
     "output_type": "stream",
     "text": [
      "INFO:tensorflow:Assets written to: models\\model-mnist-digits-ep005-loss0.010\\assets\n"
     ]
    },
    {
     "name": "stdout",
     "output_type": "stream",
     "text": [
      "7500/7500 [==============================] - 301s 40ms/step - loss: 0.0105 - accuracy: 0.9970 - val_loss: 0.0178 - val_accuracy: 0.9951\n",
      "Epoch 6/20\n",
      "7500/7500 [==============================] - ETA: 0s - loss: 0.0084 - accuracy: 0.9977\n",
      "Epoch 6: accuracy improved from 0.99704 to 0.99769, saving model to models\\model-mnist-digits-ep006-loss0.008\n",
      "INFO:tensorflow:Assets written to: models\\model-mnist-digits-ep006-loss0.008\\assets\n"
     ]
    },
    {
     "name": "stderr",
     "output_type": "stream",
     "text": [
      "INFO:tensorflow:Assets written to: models\\model-mnist-digits-ep006-loss0.008\\assets\n"
     ]
    },
    {
     "name": "stdout",
     "output_type": "stream",
     "text": [
      "7500/7500 [==============================] - 303s 40ms/step - loss: 0.0084 - accuracy: 0.9977 - val_loss: 0.0172 - val_accuracy: 0.9955\n",
      "Epoch 7/20\n",
      "7500/7500 [==============================] - ETA: 0s - loss: 0.0069 - accuracy: 0.9980\n",
      "Epoch 7: accuracy improved from 0.99769 to 0.99805, saving model to models\\model-mnist-digits-ep007-loss0.007\n",
      "INFO:tensorflow:Assets written to: models\\model-mnist-digits-ep007-loss0.007\\assets\n"
     ]
    },
    {
     "name": "stderr",
     "output_type": "stream",
     "text": [
      "INFO:tensorflow:Assets written to: models\\model-mnist-digits-ep007-loss0.007\\assets\n"
     ]
    },
    {
     "name": "stdout",
     "output_type": "stream",
     "text": [
      "7500/7500 [==============================] - 303s 40ms/step - loss: 0.0069 - accuracy: 0.9980 - val_loss: 0.0182 - val_accuracy: 0.9954\n",
      "Epoch 8/20\n",
      "7499/7500 [============================>.] - ETA: 0s - loss: 0.0056 - accuracy: 0.9985\n",
      "Epoch 8: accuracy improved from 0.99805 to 0.99852, saving model to models\\model-mnist-digits-ep008-loss0.006\n",
      "INFO:tensorflow:Assets written to: models\\model-mnist-digits-ep008-loss0.006\\assets\n"
     ]
    },
    {
     "name": "stderr",
     "output_type": "stream",
     "text": [
      "INFO:tensorflow:Assets written to: models\\model-mnist-digits-ep008-loss0.006\\assets\n"
     ]
    },
    {
     "name": "stdout",
     "output_type": "stream",
     "text": [
      "7500/7500 [==============================] - 305s 41ms/step - loss: 0.0056 - accuracy: 0.9985 - val_loss: 0.0186 - val_accuracy: 0.9955\n",
      "Epoch 9/20\n",
      "7500/7500 [==============================] - ETA: 0s - loss: 0.0045 - accuracy: 0.9988\n",
      "Epoch 9: accuracy improved from 0.99852 to 0.99877, saving model to models\\model-mnist-digits-ep009-loss0.005\n",
      "INFO:tensorflow:Assets written to: models\\model-mnist-digits-ep009-loss0.005\\assets\n"
     ]
    },
    {
     "name": "stderr",
     "output_type": "stream",
     "text": [
      "INFO:tensorflow:Assets written to: models\\model-mnist-digits-ep009-loss0.005\\assets\n"
     ]
    },
    {
     "name": "stdout",
     "output_type": "stream",
     "text": [
      "7500/7500 [==============================] - 295s 39ms/step - loss: 0.0045 - accuracy: 0.9988 - val_loss: 0.0215 - val_accuracy: 0.9947\n",
      "Epoch 10/20\n",
      "7500/7500 [==============================] - ETA: 0s - loss: 0.0034 - accuracy: 0.9991\n",
      "Epoch 10: accuracy improved from 0.99877 to 0.99910, saving model to models\\model-mnist-digits-ep010-loss0.003\n",
      "INFO:tensorflow:Assets written to: models\\model-mnist-digits-ep010-loss0.003\\assets\n"
     ]
    },
    {
     "name": "stderr",
     "output_type": "stream",
     "text": [
      "INFO:tensorflow:Assets written to: models\\model-mnist-digits-ep010-loss0.003\\assets\n"
     ]
    },
    {
     "name": "stdout",
     "output_type": "stream",
     "text": [
      "7500/7500 [==============================] - 297s 40ms/step - loss: 0.0034 - accuracy: 0.9991 - val_loss: 0.0200 - val_accuracy: 0.9952\n",
      "Epoch 11/20\n",
      "7499/7500 [============================>.] - ETA: 0s - loss: 0.0024 - accuracy: 0.9994\n",
      "Epoch 11: accuracy improved from 0.99910 to 0.99936, saving model to models\\model-mnist-digits-ep011-loss0.002\n",
      "INFO:tensorflow:Assets written to: models\\model-mnist-digits-ep011-loss0.002\\assets\n"
     ]
    },
    {
     "name": "stderr",
     "output_type": "stream",
     "text": [
      "INFO:tensorflow:Assets written to: models\\model-mnist-digits-ep011-loss0.002\\assets\n"
     ]
    },
    {
     "name": "stdout",
     "output_type": "stream",
     "text": [
      "7500/7500 [==============================] - 299s 40ms/step - loss: 0.0024 - accuracy: 0.9994 - val_loss: 0.0211 - val_accuracy: 0.9953\n",
      "Epoch 12/20\n",
      "7500/7500 [==============================] - ETA: 0s - loss: 0.0020 - accuracy: 0.9994\n",
      "Epoch 12: accuracy improved from 0.99936 to 0.99940, saving model to models\\model-mnist-digits-ep012-loss0.002\n",
      "INFO:tensorflow:Assets written to: models\\model-mnist-digits-ep012-loss0.002\\assets\n"
     ]
    },
    {
     "name": "stderr",
     "output_type": "stream",
     "text": [
      "INFO:tensorflow:Assets written to: models\\model-mnist-digits-ep012-loss0.002\\assets\n"
     ]
    },
    {
     "name": "stdout",
     "output_type": "stream",
     "text": [
      "7500/7500 [==============================] - 301s 40ms/step - loss: 0.0020 - accuracy: 0.9994 - val_loss: 0.0222 - val_accuracy: 0.9952\n",
      "Epoch 13/20\n",
      "7499/7500 [============================>.] - ETA: 0s - loss: 0.0015 - accuracy: 0.9996\n",
      "Epoch 13: accuracy improved from 0.99940 to 0.99961, saving model to models\\model-mnist-digits-ep013-loss0.002\n",
      "INFO:tensorflow:Assets written to: models\\model-mnist-digits-ep013-loss0.002\\assets\n"
     ]
    },
    {
     "name": "stderr",
     "output_type": "stream",
     "text": [
      "INFO:tensorflow:Assets written to: models\\model-mnist-digits-ep013-loss0.002\\assets\n"
     ]
    },
    {
     "name": "stdout",
     "output_type": "stream",
     "text": [
      "7500/7500 [==============================] - 296s 39ms/step - loss: 0.0015 - accuracy: 0.9996 - val_loss: 0.0248 - val_accuracy: 0.9954\n",
      "Epoch 14/20\n",
      "7499/7500 [============================>.] - ETA: 0s - loss: 9.8032e-04 - accuracy: 0.9998\n",
      "Epoch 14: accuracy improved from 0.99961 to 0.99976, saving model to models\\model-mnist-digits-ep014-loss0.001\n",
      "INFO:tensorflow:Assets written to: models\\model-mnist-digits-ep014-loss0.001\\assets\n"
     ]
    },
    {
     "name": "stderr",
     "output_type": "stream",
     "text": [
      "INFO:tensorflow:Assets written to: models\\model-mnist-digits-ep014-loss0.001\\assets\n"
     ]
    },
    {
     "name": "stdout",
     "output_type": "stream",
     "text": [
      "7500/7500 [==============================] - 306s 41ms/step - loss: 9.8025e-04 - accuracy: 0.9998 - val_loss: 0.0279 - val_accuracy: 0.9945\n",
      "Epoch 15/20\n",
      "7500/7500 [==============================] - ETA: 0s - loss: 9.1585e-04 - accuracy: 0.9998\n",
      "Epoch 15: accuracy did not improve from 0.99976\n",
      "7500/7500 [==============================] - 303s 40ms/step - loss: 9.1585e-04 - accuracy: 0.9998 - val_loss: 0.0241 - val_accuracy: 0.9957\n",
      "Epoch 16/20\n",
      "7500/7500 [==============================] - ETA: 0s - loss: 7.3223e-04 - accuracy: 0.9998\n",
      "Epoch 16: accuracy improved from 0.99976 to 0.99983, saving model to models\\model-mnist-digits-ep016-loss0.001\n",
      "INFO:tensorflow:Assets written to: models\\model-mnist-digits-ep016-loss0.001\\assets\n"
     ]
    },
    {
     "name": "stderr",
     "output_type": "stream",
     "text": [
      "INFO:tensorflow:Assets written to: models\\model-mnist-digits-ep016-loss0.001\\assets\n"
     ]
    },
    {
     "name": "stdout",
     "output_type": "stream",
     "text": [
      "7500/7500 [==============================] - 307s 41ms/step - loss: 7.3223e-04 - accuracy: 0.9998 - val_loss: 0.0259 - val_accuracy: 0.9952\n",
      "Epoch 17/20\n",
      "7499/7500 [============================>.] - ETA: 0s - loss: 7.4961e-04 - accuracy: 0.9998\n",
      "Epoch 17: accuracy did not improve from 0.99983\n",
      "7500/7500 [==============================] - 290s 39ms/step - loss: 7.4951e-04 - accuracy: 0.9998 - val_loss: 0.0257 - val_accuracy: 0.9954\n",
      "Epoch 18/20\n",
      "7499/7500 [============================>.] - ETA: 0s - loss: 2.6059e-04 - accuracy: 1.0000\n",
      "Epoch 18: accuracy improved from 0.99983 to 0.99996, saving model to models\\model-mnist-digits-ep018-loss0.000\n",
      "INFO:tensorflow:Assets written to: models\\model-mnist-digits-ep018-loss0.000\\assets\n"
     ]
    },
    {
     "name": "stderr",
     "output_type": "stream",
     "text": [
      "INFO:tensorflow:Assets written to: models\\model-mnist-digits-ep018-loss0.000\\assets\n"
     ]
    },
    {
     "name": "stdout",
     "output_type": "stream",
     "text": [
      "7500/7500 [==============================] - 287s 38ms/step - loss: 2.6056e-04 - accuracy: 1.0000 - val_loss: 0.0244 - val_accuracy: 0.9960\n",
      "Epoch 19/20\n",
      "7500/7500 [==============================] - ETA: 0s - loss: 6.9679e-05 - accuracy: 1.0000\n",
      "Epoch 19: accuracy improved from 0.99996 to 1.00000, saving model to models\\model-mnist-digits-ep019-loss0.000\n",
      "INFO:tensorflow:Assets written to: models\\model-mnist-digits-ep019-loss0.000\\assets\n"
     ]
    },
    {
     "name": "stderr",
     "output_type": "stream",
     "text": [
      "INFO:tensorflow:Assets written to: models\\model-mnist-digits-ep019-loss0.000\\assets\n"
     ]
    },
    {
     "name": "stdout",
     "output_type": "stream",
     "text": [
      "7500/7500 [==============================] - 286s 38ms/step - loss: 6.9679e-05 - accuracy: 1.0000 - val_loss: 0.0257 - val_accuracy: 0.9961\n",
      "Epoch 20/20\n",
      "7500/7500 [==============================] - ETA: 0s - loss: 4.2487e-05 - accuracy: 1.0000\n",
      "Epoch 20: accuracy did not improve from 1.00000\n",
      "7500/7500 [==============================] - 284s 38ms/step - loss: 4.2487e-05 - accuracy: 1.0000 - val_loss: 0.0262 - val_accuracy: 0.9962\n"
     ]
    },
    {
     "data": {
      "text/plain": [
       "<keras.src.callbacks.History at 0x1dfef49c5b0>"
      ]
     },
     "execution_count": 53,
     "metadata": {},
     "output_type": "execute_result"
    }
   ],
   "source": [
    "model.fit(train_X, train_y, epochs=no_epochs, batch_size=32, validation_data=[test_X, test_y], callbacks=[cp])"
   ]
  },
  {
   "cell_type": "code",
   "execution_count": 54,
   "id": "ec02578c-d936-4f54-baf7-9b330e69696a",
   "metadata": {},
   "outputs": [],
   "source": [
    "model_file = 'models/model-mnist-digits-ep019-loss0.000'\n",
    "model_obj = load_model(model_file)"
   ]
  },
  {
   "cell_type": "code",
   "execution_count": 21,
   "id": "a0ef29f5-512b-4043-b4d7-f37f2db29d02",
   "metadata": {},
   "outputs": [],
   "source": [
    "#_, val_accuracy = model_obj.evaluate(test_X, test_y)"
   ]
  },
  {
   "cell_type": "code",
   "execution_count": 22,
   "id": "141bc00c-d71a-404b-bce2-da57171697d9",
   "metadata": {},
   "outputs": [],
   "source": [
    "#val_accuracy"
   ]
  },
  {
   "cell_type": "markdown",
   "id": "2c842f47-d715-45d5-81d3-d04393206681",
   "metadata": {},
   "source": [
    "## Model accuracy"
   ]
  },
  {
   "cell_type": "code",
   "execution_count": 55,
   "id": "f1a0ff1f-291d-4f37-9a5f-57eb371fc98a",
   "metadata": {},
   "outputs": [
    {
     "data": {
      "image/png": "[encoded data removed]",
      "text/plain": [
       "<Figure size 640x480 with 1 Axes>"
      ]
     },
     "metadata": {},
     "output_type": "display_data"
    }
   ],
   "source": [
    "accuracy_plot_x = range(1, no_epochs + 1)\n",
    "accuracy_values = model.history.history['accuracy']\n",
    "val_accuracy_values = model.history.history['val_accuracy']\n",
    "sns.lineplot(x=accuracy_plot_x, y=accuracy_values, label='Accuracy')\n",
    "sns.lineplot(x=accuracy_plot_x, y=val_accuracy_values, label='Validation Accuracy')\n",
    "\n",
    "plt.title('Training accuracy vs Validation accuracy')\n",
    "plt.xlabel('Epochs')\n",
    "plt.ylabel('Accuracy')\n",
    "\n",
    "plt.show()"
   ]
  },
  {
   "cell_type": "code",
   "execution_count": 58,
   "id": "8f0d72d4-a2c7-46ad-8545-81ae9a1f1a01",
   "metadata": {},
   "outputs": [],
   "source": [
    "image_file = 'sample_images/1.png'\n",
    "image = load_img(image_file, color_mode=\"grayscale\", target_size=(28, 28))\n",
    "image_array = img_to_array(image)\n",
    "image_array = image_array.reshape(1, 28, 28, 1)\n",
    "image_array = image_array / 255.0"
   ]
  },
  {
   "cell_type": "code",
   "execution_count": 59,
   "id": "776972e9-39e2-433b-82f8-6909f8713e28",
   "metadata": {},
   "outputs": [
    {
     "name": "stdout",
     "output_type": "stream",
     "text": [
      "1/1 [==============================] - 0s 18ms/step\n"
     ]
    },
    {
     "data": {
      "text/plain": [
       "7"
      ]
     },
     "execution_count": 59,
     "metadata": {},
     "output_type": "execute_result"
    }
   ],
   "source": [
    "np.argmax(model_obj.predict(image_array))"
   ]
  },
  {
   "cell_type": "code",
   "execution_count": null,
   "id": "12f3b75c-87f4-42ef-a1fa-fc44ba29e1aa",
   "metadata": {},
   "outputs": [],
   "source": []
  }
 ],
 "metadata": {
  "kernelspec": {
   "display_name": "Python 3 (ipykernel)",
   "language": "python",
   "name": "python3"
  },
  "language_info": {
   "codemirror_mode": {
    "name": "ipython",
    "version": 3
   },
   "file_extension": ".py",
   "mimetype": "text/x-python",
   "name": "python",
   "nbconvert_exporter": "python",
   "pygments_lexer": "ipython3",
   "version": "3.10.9"
  }
 },
 "nbformat": 4,
 "nbformat_minor": 5
}
